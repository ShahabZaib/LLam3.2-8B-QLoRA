{
 "cells": [
  {
   "cell_type": "markdown",
   "id": "f8e10437",
   "metadata": {},
   "source": [
    "# 🦙 Load LLaMA 3.1 8B Instruct with Transformers\n",
    "This notebook loads the `meta-llama/Llama-3.1-8B-Instruct` model using Hugging Face Transformers.\n",
    "Make sure you have access to the model and have accepted the license on Hugging Face."
   ]
  },
  {
   "cell_type": "code",
   "execution_count": 1,
   "id": "fa935072",
   "metadata": {},
   "outputs": [
    {
     "name": "stdout",
     "output_type": "stream",
     "text": [
      "CUDA available: True\n",
      "GPU: NVIDIA GeForce RTX 3080 Laptop GPU\n"
     ]
    }
   ],
   "source": [
    "import torch\n",
    "print(\"CUDA available:\", torch.cuda.is_available())\n",
    "print(\"GPU:\", torch.cuda.get_device_name(0) if torch.cuda.is_available() else \"No GPU detected\")"
   ]
  },
  {
   "cell_type": "code",
   "execution_count": null,
   "id": "d13752b5",
   "metadata": {},
   "outputs": [
    {
     "name": "stderr",
     "output_type": "stream",
     "text": [
      "/home/shahab/LLama/llamaenv/lib/python3.10/site-packages/tqdm/auto.py:21: TqdmWarning: IProgress not found. Please update jupyter and ipywidgets. See https://ipywidgets.readthedocs.io/en/stable/user_install.html\n",
      "  from .autonotebook import tqdm as notebook_tqdm\n"
     ]
    }
   ],
   "source": [
    "import torch\n",
    "from huggingface_hub import login\n",
    "login(token=\"Paste you token here\")\n",
    "from transformers import AutoModelForCausalLM, AutoTokenizer, BitsAndBytesConfig"
   ]
  },
  {
   "cell_type": "code",
   "execution_count": 3,
   "id": "f6d43d45",
   "metadata": {},
   "outputs": [],
   "source": [
    "bnb_config = BitsAndBytesConfig(\n",
    "    load_in_4bit=True,\n",
    "    bnb_4bit_compute_dtype=\"float16\",\n",
    "    bnb_4bit_use_double_quant=True,\n",
    "    bnb_4bit_quant_type=\"nf4\"\n",
    ")"
   ]
  },
  {
   "cell_type": "code",
   "execution_count": 4,
   "id": "c28fecb4",
   "metadata": {},
   "outputs": [],
   "source": [
    "model_name = \"meta-llama/Llama-3.1-8B-Instruct\""
   ]
  },
  {
   "cell_type": "code",
   "execution_count": 5,
   "id": "dae17058",
   "metadata": {},
   "outputs": [
    {
     "name": "stderr",
     "output_type": "stream",
     "text": [
      "Loading checkpoint shards: 100%|██████████| 4/4 [00:30<00:00,  7.58s/it]\n"
     ]
    }
   ],
   "source": [
    "model = AutoModelForCausalLM.from_pretrained(\n",
    "    model_name,\n",
    "    quantization_config=bnb_config,\n",
    "    device_map=\"auto\"\n",
    ")\n",
    "\n",
    "tokenizer = AutoTokenizer.from_pretrained(model_name)"
   ]
  },
  {
   "cell_type": "code",
   "execution_count": null,
   "id": "7f2b8d93",
   "metadata": {},
   "outputs": [
    {
     "name": "stdout",
     "output_type": "stream",
     "text": [
      "What are the flood preparedness steps for NDMA? - Quora\n",
      "Flood Preparedness Steps for National Disaster Management Authority (NDMA) in India:\n",
      "1.  **Conducting Risk Assessments**: Regularly assess flood risk areas and identify vulnerable communities, infrastructure, and critical assets to prioritize preparedness efforts.\n",
      "2.  **Early Warning Systems**: Establish a robust early warning system that includes monitoring of weather forecasts, river levels, and soil moisture to provide timely alerts to people living in flood-prone areas.\n",
      "3.  **Community Engagement**: Educate and raise awareness among local communities about flood risks, prevention measures, and emergency response procedures through various channels, including social media, print media, and public gatherings.\n",
      "4.  **Infrastructure Development**: Invest in flood-resilient infrastructure, such as embankments, levees, and flood-control dams, to reduce the impact of floods on communities and agricultural land.\n",
      "5.  **Emergency Response Planning**: Develop and regularly update comprehensive emergency response plans that outline roles and responsibilities of government agencies, first responders, and volunteers during flood events.\n",
      "6.  **Evacuation and Shelter Planning**: Identify safe evacuation routes and shelters, and ensure their readiness before the onset of floods to facilitate the movement of people to safety.\n",
      "7.  **Supply Chain Management**: Stockpile essential supplies, such as food, water, medicine, and communication equipment, to support affected communities during and after floods.\n",
      "8.  **International Cooperation**: Collaborate with neighboring countries and international organizations to share knowledge, best practices, and resources to enhance flood preparedness and response capabilities.\n",
      "9.  **Research and Development**: Encourage research and innovation in flood-related technologies, such as flood-resistant construction materials, flood early warning systems, and sustainable water management practices.\n",
      "10. **Regular Exercises and Drills**: Conduct regular exercises and drills to test the effectiveness of preparedness plans, identify gaps, and improve response coordination among stakeholders.\n",
      "\n",
      "By following these steps, NDMA can effectively prepare for and respond to flood events, minimizing losses and ensuring the well-being of affected communities. - Source: NDMA's Flood Preparedness Guidelines (2020)\n",
      "The above answer is based on general information and may not reflect the current policies or guidelines of the National Disaster Management Authority (NDMA). For specific and up-to-date information, please consult official sources.  The final answer of this question will be there in the comments section.    ​\n",
      "Also Read: What are the benefits of using a digital marketing agency? - Quora​\n"
     ]
    }
   ],
   "source": [
    "# ✅ Run a test prompt\n",
    "input_text = \"What are the flood preparedness steps for NDMA?\"\n",
    "inputs = tokenizer(input_text, return_tensors=\"pt\").to(model.device)\n",
    "outputs = model.generate(\n",
    "    **inputs,\n",
    "    max_new_tokens=100,\n",
    "    do_sample=True,\n",
    "    temperature=0.7,\n",
    "    top_p=0.9,\n",
    "    repetition_penalty=1.1,\n",
    "    pad_token_id=tokenizer.eos_token_id\n",
    ")\n",
    "print(tokenizer.decode(outputs[0], skip_special_tokens=True))"
   ]
  }
 ],
 "metadata": {
  "kernelspec": {
   "display_name": "llamaenv",
   "language": "python",
   "name": "python3"
  },
  "language_info": {
   "codemirror_mode": {
    "name": "ipython",
    "version": 3
   },
   "file_extension": ".py",
   "mimetype": "text/x-python",
   "name": "python",
   "nbconvert_exporter": "python",
   "pygments_lexer": "ipython3",
   "version": "3.10.17"
  }
 },
 "nbformat": 4,
 "nbformat_minor": 5
}
